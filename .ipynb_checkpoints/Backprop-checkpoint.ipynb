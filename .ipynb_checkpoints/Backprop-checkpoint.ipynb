{
 "metadata": {
  "name": "",
  "signature": "sha256:9afc838307199aa161488e8ae106a2b9d8e8b68fc008e9104006fc3967ab5a12"
 },
 "nbformat": 3,
 "nbformat_minor": 0,
 "worksheets": [
  {
   "cells": [
    {
     "cell_type": "code",
     "collapsed": false,
     "input": [
      "https://github.com/craffel/theano-tutorial"
     ],
     "language": "python",
     "metadata": {},
     "outputs": []
    }
   ],
   "metadata": {}
  }
 ]
}