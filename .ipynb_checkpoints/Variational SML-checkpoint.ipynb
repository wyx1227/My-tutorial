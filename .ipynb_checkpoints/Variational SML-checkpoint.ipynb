{
 "metadata": {
  "name": ""
 },
 "nbformat": 3,
 "nbformat_minor": 0,
 "worksheets": [
  {
   "cells": [
    {
     "cell_type": "heading",
     "level": 1,
     "metadata": {},
     "source": [
      "HU3"
     ]
    },
    {
     "cell_type": "markdown",
     "metadata": {},
     "source": [
      "Improving Sampling, Optimization and Feature Extraction in Boltzmann Machines by Guillaume Desjardins"
     ]
    },
    {
     "cell_type": "code",
     "collapsed": false,
     "input": [],
     "language": "python",
     "metadata": {},
     "outputs": []
    }
   ],
   "metadata": {}
  }
 ]
}