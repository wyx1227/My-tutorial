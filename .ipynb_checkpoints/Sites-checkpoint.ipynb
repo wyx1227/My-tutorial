{
 "metadata": {
  "name": "",
  "signature": "sha256:f88bb3dbda5bd822e568e5cc9bfbaace90d8039d53ac768ef81262576eb7a956"
 },
 "nbformat": 3,
 "nbformat_minor": 0,
 "worksheets": [
  {
   "cells": [
    {
     "cell_type": "markdown",
     "metadata": {},
     "source": [
      "http://dtu-deeplearning.github.io\n",
      "https://www.cs.ox.ac.uk/people/nando.defreitas/machinelearning/\n",
      "http://outlace.com/\n",
      "http://rocknrollnerd.github.io/\n",
      "http://benanne.github.io/\n",
      "http://irakorshunova.github.io/"
     ]
    }
   ],
   "metadata": {}
  }
 ]
}