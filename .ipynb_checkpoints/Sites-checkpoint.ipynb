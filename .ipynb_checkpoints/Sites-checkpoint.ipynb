{
 "cells": [
  {
   "cell_type": "markdown",
   "metadata": {},
   "source": [
    "http://dtu-deeplearning.github.io\n",
    "https://www.cs.ox.ac.uk/people/nando.defreitas/machinelearning/\n",
    "http://outlace.com/\n",
    "http://rocknrollnerd.github.io/\n",
    "http://benanne.github.io/\n",
    "http://irakorshunova.github.io/\n",
    "http://deepdish.io/"
   ]
  }
 ],
 "metadata": {
  "kernelspec": {
   "display_name": "Python 2",
   "language": "python",
   "name": "python2"
  },
  "language_info": {
   "codemirror_mode": {
    "name": "ipython",
    "version": 2
   },
   "file_extension": ".py",
   "mimetype": "text/x-python",
   "name": "python",
   "nbconvert_exporter": "python",
   "pygments_lexer": "ipython2",
   "version": "2.7.6"
  }
 },
 "nbformat": 4,
 "nbformat_minor": 0
}
