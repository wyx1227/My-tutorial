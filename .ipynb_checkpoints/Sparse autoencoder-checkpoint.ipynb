{
 "cells": [
  {
   "cell_type": "markdown",
   "metadata": {
    "collapsed": false
   },
   "source": [
    "http://nbviewer.ipython.org/github/mdeff/dlaudio/blob/master/auto_encoder.ipynb\n",
    "https://web.stanford.edu/class/cs294a/sparseAutoencoder.pdf\n",
    "    \n",
    "http://docs.scipy.org/doc/scipy-0.16.0/reference/generated/scipy.optimize.minimize.html\n",
    "    \n",
    "https://chrisjmccormick.wordpress.com/2014/05/30/deep-learning-tutorial-sparse-autoencoder/\n",
    "    \n",
    "https://github.com/caglar/autoencoders/blob/master/sa.py\n",
    "    \n",
    "https://lts2.epfl.ch/blog/mdeff/"
   ]
  },
  {
   "cell_type": "markdown",
   "metadata": {},
   "source": [
    "t has been demonstrated in the past that sparsity is a desirable property for feature representations:\n",
    "it increases interpretability and sometimes classification performance [8].   We can encourage an\n",
    "RBM to produce sparse features with a form of data-dependent regularization. To do this, we add a\n",
    "penalty term to the objective function which is proportional to the difference between the probability\n",
    "of activation of the hidden units and a small target value. For details, we refer to Goh et al. [5].\n",
    "\n",
    "[5]\n",
    "  Hanlin Goh, Nicolas Thome, and Matthieu Cord.  Biasing restricted boltzmann machines to manipulate latent selectivity and sparsity. In Deep Learning and Unsupervised Feature Learning Workshop — NIPS, 2010.\n",
    "\n",
    "[8]  Geoffrey E. Hinton.  A practical guide to training restricted boltzmann machines.  Technical report, University of Toronto, 2010."
   ]
  }
 ],
 "metadata": {
  "kernelspec": {
   "display_name": "Python 2",
   "language": "python",
   "name": "python2"
  },
  "language_info": {
   "codemirror_mode": {
    "name": "ipython",
    "version": 2
   },
   "file_extension": ".py",
   "mimetype": "text/x-python",
   "name": "python",
   "nbconvert_exporter": "python",
   "pygments_lexer": "ipython2",
   "version": "2.7.6"
  }
 },
 "nbformat": 4,
 "nbformat_minor": 0
}
