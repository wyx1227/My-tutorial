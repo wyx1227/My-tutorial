{
 "metadata": {
  "name": ""
 },
 "nbformat": 3,
 "nbformat_minor": 0,
 "worksheets": [
  {
   "cells": [
    {
     "cell_type": "heading",
     "level": 1,
     "metadata": {},
     "source": [
      "Binary-Binary RBM"
     ]
    },
    {
     "cell_type": "markdown",
     "metadata": {},
     "source": [
      "Improved Learning Algorithms for Restricted Boltzmann Machines by Cho <br>\n",
      "\n",
      "$$\n",
      "E(\\mathbf{v},\\mathbf{h}) = -\\sum\\limits_{i=1}^{N_{vis\u00edveis}} b_i v_i -  \\sum\\limits_{j=1}^{N_{ocultos}} a_j h_j - \\sum\\limits_{i=1}^{N_{vis\u00edveis}} \\sum\\limits_{j=1}^{N_{ocultos}} v_ih_jw_{ij}\n",
      "$$\n",
      "\n",
      "\n",
      "$$\n",
      "p(\\mathbf{v},\\mathbf{h}) = \\frac{1}{Z} e^{-E(\\mathbf{v},\\mathbf{h})}\n",
      "$$\n",
      "\n",
      "$$\n",
      "Z = \\sum\\limits_{\\mathbf{v}, \\mathbf{h}} e^{-E(\\mathbf{v},\\mathbf{h})}\n",
      "$$\n",
      "\n",
      "\n",
      "$$\n",
      "p(\\mathbf{v}) = \\sum\\limits_\\mathbf{h} p(\\mathbf{v},\\mathbf{h}) = \\frac{1}{Z} \\sum\\limits_\\mathbf{h} e^{-E(\\mathbf{v},\\mathbf{h})}\n",
      "$$\n",
      "\n",
      "$$\n",
      "maximizar_{\\{W_{ij},b_{i},a_{j}\\}} \\frac{1}{m}\\sum_{l=1} ^{m} log \\left( \\sum_h p\\left( \\mathbf{v}^{\\left(l\\right)}, \\mathbf{h}^{\\left(l\\right)} \\right) \\right)\n",
      "$$\n",
      "\n",
      "\n",
      "\n",
      "$$\n",
      "\\frac{\\partial}{\\partialw_{ij}}\\left(\\frac{1}{m}\\sum_{l=1} ^{m} log \\left( \\sum_h p\\left( \\mathbf{v}^{\\left(l\\right)}, \\mathbf{h}^{\\left(l\\right)} \\right) \\right)\\right) = \\frac{1}{m} \\sum_{l=1}^{m} \\sum_h X_{ij}h_{j}p(h|v=x) - \\sum_{v'}\\sum_{h'}v'_{i} h'_{j} p(v',h')\n",
      "$$\n",
      "\n",
      "\n",
      "$$\n",
      "- \\frac{\\partial \\log  p(\\mathbf{v})}{\\partial w_{ij} } = \\langle v_ih_j \\rangle _{dado} - \\langle v_ih_j \\rangle _{modelo}\n",
      "$$\n",
      "\n",
      "\n",
      "\n",
      "$$\n",
      "p(h_j = 1 | \\mathbf{v}) = sigm\u00f3ide\\left(\\sum\\limits_i v_iw_{ij} +a_j\\right)\n",
      "$$\n",
      "\n",
      "$$\n",
      "p(v_i = 1 | \\mathbf{h}) = sigm\u00f3ide\\left(\\sum\\limits_j h_jw_{ij} + b_i\\right)\n",
      "$$\n",
      "\n",
      "\n",
      "\n"
     ]
    },
    {
     "cell_type": "code",
     "collapsed": false,
     "input": [
      "import theano"
     ],
     "language": "python",
     "metadata": {},
     "outputs": [],
     "prompt_number": 2
    },
    {
     "cell_type": "code",
     "collapsed": false,
     "input": [
      "%%latex\n",
      "\n",
      "$$\n",
      "E(\\mathbf{v},\\mathbf{h}) = -\\sum\\limits_{i=1}^{N_{vis\u00edveis}} b_i v_i -  \\sum\\limits_{j=1}^{N_{ocultos}} a_j h_j - \\sum\\limits_{i=1}^{N_{vis\u00edveis}} \\sum\\limits_{j=1}^{N_{ocultos}} v_ih_jw_{ij}\n",
      "$$\n"
     ],
     "language": "python",
     "metadata": {},
     "outputs": [
      {
       "latex": [
        "\n",
        "$$\n",
        "E(\\mathbf{v},\\mathbf{h}) = -\\sum\\limits_{i=1}^{N_{vis\u00edveis}} b_i v_i -  \\sum\\limits_{j=1}^{N_{ocultos}} a_j h_j - \\sum\\limits_{i=1}^{N_{vis\u00edveis}} \\sum\\limits_{j=1}^{N_{ocultos}} v_ih_jw_{ij}\n",
        "$$"
       ],
       "metadata": {},
       "output_type": "display_data",
       "text": [
        "<IPython.core.display.Latex at 0x7fdbdc558950>"
       ]
      }
     ],
     "prompt_number": 1
    },
    {
     "cell_type": "code",
     "collapsed": false,
     "input": [
      "E(\\mathbf{v},\\mathbf{h}) = -\\sum\\limits_{i=1}^{N_{vis\u00edveis}} b_i v_i -  \\sum\\limits_{j=1}^{N_{ocultos}} a_j h_j - \\sum\\limits_{i=1}^{N_{vis\u00edveis}} \\sum\\limits_{j=1}^{N_{ocultos}} v_ih_jw_{ij}\n",
      "$$"
     ],
     "language": "python",
     "metadata": {},
     "outputs": []
    },
    {
     "cell_type": "code",
     "collapsed": false,
     "input": [],
     "language": "python",
     "metadata": {},
     "outputs": []
    }
   ],
   "metadata": {}
  }
 ]
}