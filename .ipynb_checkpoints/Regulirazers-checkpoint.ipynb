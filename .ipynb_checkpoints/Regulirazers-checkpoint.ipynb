{
 "cells": [
  {
   "cell_type": "code",
   "execution_count": null,
   "metadata": {
    "collapsed": true
   },
   "outputs": [],
   "source": [
    "BENGIO PRATICAL\n",
    "\n",
    "2 regularization penalizes large val-\n",
    "ues more strongly and corresponds to a Gaus-\n",
    "sian prior\n",
    "∝\n",
    "exp(\n",
    "−\n",
    "1\n",
    "2\n",
    "||\n",
    "θ\n",
    "||\n",
    "2\n",
    "σ\n",
    "2\n",
    ") with prior variance\n",
    "σ\n",
    "2\n",
    "= 1\n",
    "/\n",
    "(2\n",
    "λ\n",
    ").  Note that there is a connection\n",
    "between early stopping (see above, choosing the\n",
    "number of training iterations) and L2 regular-\n",
    "ization (Collobert and Bengio, 2004a), with one\n",
    "basically playing the same role as the other (but\n",
    "early stopping allowing a much more efficient se-\n",
    "lection of the hyper-parameter value, which sug-\n",
    "gests dropping L2 regularization altogether when\n",
    "early-stopping is used).  However, L1 regular-\n",
    "ization behaves differently and can sometimes\n",
    "be useful, acting as a form of feature selection.\n",
    "L1 regularization makes sure that parameters\n",
    "that are not really very useful are driven to zero\n",
    "(i.e. encouraging sparsity of the parameter val-\n",
    "ues),"
   ]
  }
 ],
 "metadata": {
  "kernelspec": {
   "display_name": "Python 2",
   "language": "python",
   "name": "python2"
  },
  "language_info": {
   "codemirror_mode": {
    "name": "ipython",
    "version": 2
   },
   "file_extension": ".py",
   "mimetype": "text/x-python",
   "name": "python",
   "nbconvert_exporter": "python",
   "pygments_lexer": "ipython2",
   "version": "2.7.6"
  }
 },
 "nbformat": 4,
 "nbformat_minor": 0
}
