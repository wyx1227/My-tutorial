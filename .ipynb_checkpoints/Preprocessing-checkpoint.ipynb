{
 "cells": [
  {
   "cell_type": "code",
   "execution_count": null,
   "metadata": {
    "collapsed": true
   },
   "outputs": [],
   "source": [
    "any preprocessing steps have\n",
    "been proposed to massage raw data into ap-\n",
    "propriate inputs for neural networks and model\n",
    "selection must also choose among them.   In\n",
    "addition to element-wise standardization (sub-\n",
    "tract  mean  and  divide  by  standard  devia-\n",
    "tion), Principal Components Analysis (PCA)\n",
    "has often been advocated (LeCun\n",
    "et al.\n",
    ", 1998a;\n",
    "Bergstra and Bengio, 2012) and also allows di-\n",
    "mensionality reduction, at the price of an ex-\n",
    "tra hyper-parameter (the number of principal\n",
    "components retained, or the proportion of vari-\n",
    "ance explained).  A convenient non-linear pre-\n",
    "processing is the\n",
    "uniformization\n",
    "(Mesnil\n",
    "et al.\n",
    ",\n",
    "2011) of each feature (which estimates its cumu-\n",
    "lative distribution\n",
    "F\n",
    "i\n",
    "and then transforms each\n",
    "feature\n",
    "x\n",
    "i\n",
    "by its quantile\n",
    "F\n",
    "−\n",
    "1\n",
    "i\n",
    "(\n",
    "x\n",
    "i\n",
    "), i.e., returns\n",
    "15\n",
    "an approximate normalized rank or quantile for\n",
    "the value\n",
    "x\n",
    "i\n",
    "). A simpler to compute transform\n",
    "that may help reduce the tails of input features\n",
    "is a non-linearity such as the logarithm or the\n",
    "square root, in an attempt to make them more\n",
    "Gaussian-like."
   ]
  }
 ],
 "metadata": {
  "kernelspec": {
   "display_name": "Python 2",
   "language": "python",
   "name": "python2"
  },
  "language_info": {
   "codemirror_mode": {
    "name": "ipython",
    "version": 2
   },
   "file_extension": ".py",
   "mimetype": "text/x-python",
   "name": "python",
   "nbconvert_exporter": "python",
   "pygments_lexer": "ipython2",
   "version": "2.7.6"
  }
 },
 "nbformat": 4,
 "nbformat_minor": 0
}
