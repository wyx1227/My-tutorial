{
 "metadata": {
  "name": "",
  "signature": "sha256:24c801afbe694ee3637341b365ecbf5caaa66d2f37828d364cd18d2931bbc678"
 },
 "nbformat": 3,
 "nbformat_minor": 0,
 "worksheets": [
  {
   "cells": [
    {
     "cell_type": "code",
     "collapsed": false,
     "input": [
      "http://nbviewer.ipython.org/github/mdeff/dlaudio/blob/master/auto_encoder.ipynb\n",
      "https://web.stanford.edu/class/cs294a/sparseAutoencoder.pdf\n",
      "    \n",
      "http://docs.scipy.org/doc/scipy-0.16.0/reference/generated/scipy.optimize.minimize.html\n",
      "    \n",
      "https://chrisjmccormick.wordpress.com/2014/05/30/deep-learning-tutorial-sparse-autoencoder/\n",
      "    \n",
      "https://github.com/caglar/autoencoders/blob/master/sa.py\n",
      "    \n",
      "https://lts2.epfl.ch/blog/mdeff/"
     ],
     "language": "python",
     "metadata": {},
     "outputs": []
    }
   ],
   "metadata": {}
  }
 ]
}