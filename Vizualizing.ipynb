{
 "cells": [
  {
   "cell_type": "code",
   "execution_count": null,
   "metadata": {
    "collapsed": true
   },
   "outputs": [],
   "source": [
    "Finally, another useful type of visualization is to\n",
    "display statistics (e.g., histogram, mean and stan-\n",
    "dard deviation) of activations (inputs and outputs\n",
    "of the non-linearities at each layer), activation gradi-\n",
    "ents, parameters and parameter gradients, by groups\n",
    "(e.g. different layers, biases vs weights) and across\n",
    "training iterations.  See Glorot and Bengio (2010)\n",
    "32\n",
    "It is difficult to know for sure if it is a true local minima\n",
    "or if it appears like one because the optimization algorithm\n",
    "is\n",
    "stuck.\n",
    "for a practical example. "
   ]
  }
 ],
 "metadata": {
  "kernelspec": {
   "display_name": "Python 2",
   "language": "python",
   "name": "python2"
  },
  "language_info": {
   "codemirror_mode": {
    "name": "ipython",
    "version": 2
   },
   "file_extension": ".py",
   "mimetype": "text/x-python",
   "name": "python",
   "nbconvert_exporter": "python",
   "pygments_lexer": "ipython2",
   "version": "2.7.6"
  }
 },
 "nbformat": 4,
 "nbformat_minor": 0
}
