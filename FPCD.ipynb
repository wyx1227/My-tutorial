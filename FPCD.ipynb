{
 "metadata": {
  "name": ""
 },
 "nbformat": 3,
 "nbformat_minor": 0,
 "worksheets": [
  {
   "cells": [
    {
     "cell_type": "heading",
     "level": 1,
     "metadata": {},
     "source": [
      "Fast-WeightPersistent CD"
     ]
    },
    {
     "cell_type": "markdown",
     "metadata": {},
     "source": [
      "Improving Sampling, Optimization and Feature Extraction in Boltzmann Machines by Guillaume Desjardins <br>\n",
      "Training Restricted Boltzmann Machines: An Introductio by Fischer <br>\n",
      "Optimizing Neural Networks that Generate Images by Tieleman <br>\n",
      "Quickly Generating Representative Samples from an RBM-Derived Process by Breuleux<br>"
     ]
    },
    {
     "cell_type": "code",
     "collapsed": false,
     "input": [],
     "language": "python",
     "metadata": {},
     "outputs": []
    }
   ],
   "metadata": {}
  }
 ]
}